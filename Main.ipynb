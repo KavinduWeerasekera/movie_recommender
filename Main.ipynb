{
 "cells": [
  {
   "cell_type": "code",
   "execution_count": 1,
   "id": "d37a8388",
   "metadata": {},
   "outputs": [],
   "source": [
    "import pandas as pd\n",
    "df=pd.read_csv(\"netflix_titles.csv\")"
   ]
  },
  {
   "cell_type": "code",
   "execution_count": 2,
   "id": "1f7351bd",
   "metadata": {},
   "outputs": [],
   "source": [
    "def create_textual_representation(row):\n",
    "    textual_representation=f\"\"\"Type:{row['type']},\n",
    "Title:{row['title']},\n",
    "Director:{row['director']},\n",
    "Cast:{row['cast']},\n",
    "Released:{row['release_year']},\n",
    "Genres:{row['listed_in']},\n",
    "Description:{row['description']}\"\"\"\n",
    "    return textual_representation"
   ]
  },
  {
   "cell_type": "code",
   "execution_count": 4,
   "id": "dde71ebe",
   "metadata": {},
   "outputs": [],
   "source": [
    "df['Textual_Representation']=df.apply(create_textual_representation,axis=1)"
   ]
  },
  {
   "cell_type": "code",
   "execution_count": 5,
   "id": "ed537821",
   "metadata": {},
   "outputs": [
    {
     "name": "stdout",
     "output_type": "stream",
     "text": [
      "Type:Movie,\n",
      "Title:Dick Johnson Is Dead,\n",
      "Director:Kirsten Johnson,\n",
      "Cast:nan,\n",
      "Released:2020,\n",
      "Genres:Documentaries,\n",
      "Description:As her father nears the end of his life, filmmaker Kirsten Johnson stages his death in inventive and comical ways to help them both face the inevitable.\n"
     ]
    }
   ],
   "source": [
    "print(df['Textual_Representation'].values[0])"
   ]
  },
  {
   "cell_type": "code",
   "execution_count": null,
   "id": "e587a27b",
   "metadata": {},
   "outputs": [
    {
     "name": "stderr",
     "output_type": "stream",
     "text": [
      "c:\\Users\\Asus\\AppData\\Local\\Programs\\Python\\Python311\\Lib\\site-packages\\tqdm\\auto.py:21: TqdmWarning: IProgress not found. Please update jupyter and ipywidgets. See https://ipywidgets.readthedocs.io/en/stable/user_install.html\n",
      "  from .autonotebook import tqdm as notebook_tqdm\n"
     ]
    }
   ],
   "source": [
    "from sentence_transformers import SentenceTransformer\n",
    "import numpy as np\n",
    "import faiss\n",
    "\n",
    "# Load embedding model (free)\n",
    "model = SentenceTransformer(\"sentence-transformers/all-MiniLM-L6-v2\")\n",
    "\n",
    "# Encode all movies\n",
    "embeddings = model.encode(df['Textual_Representation'].tolist(), convert_to_numpy=True)\n",
    "\n",
    "# Normalize for cosine similarity\n",
    "embeddings = embeddings.astype('float32')\n"
   ]
  },
  {
   "cell_type": "code",
   "execution_count": null,
   "id": "2d02ea2b",
   "metadata": {},
   "outputs": [],
   "source": [
    "# Use cosine similarity (inner product) instead of L2\n",
    "faiss.normalize_L2(embeddings)\n",
    "\n",
    "index = faiss.IndexFlatIP(embeddings.shape[1])  # inner product\n",
    "index.add(embeddings)  # add all movie embeddings\n"
   ]
  },
  {
   "cell_type": "code",
   "execution_count": null,
   "id": "3537a193",
   "metadata": {},
   "outputs": [],
   "source": [
    "def recommend_movies(movie_title, k=5):\n",
    "    # Find index of the movie\n",
    "    idx = df.index[df['title'] == movie_title].tolist()\n",
    "    if not idx:\n",
    "        return f\"Movie '{movie_title}' not found.\"\n",
    "    \n",
    "    idx = idx[0]\n",
    "    query_vector = embeddings[idx].reshape(1, -1)\n",
    "\n",
    "    # Search in FAISS\n",
    "    distances, indices = index.search(query_vector, k+1)  # k+1 to skip the movie itself\n",
    "    \n",
    "    # Get recommendations (skip the first one because it’s the same movie)\n",
    "    recommendations = df.iloc[indices[0][1:]][['title', 'listed_in', 'description']]\n",
    "    return recommendations\n"
   ]
  }
 ],
 "metadata": {
  "kernelspec": {
   "display_name": "Python 3",
   "language": "python",
   "name": "python3"
  },
  "language_info": {
   "codemirror_mode": {
    "name": "ipython",
    "version": 3
   },
   "file_extension": ".py",
   "mimetype": "text/x-python",
   "name": "python",
   "nbconvert_exporter": "python",
   "pygments_lexer": "ipython3",
   "version": "3.11.0"
  }
 },
 "nbformat": 4,
 "nbformat_minor": 5
}
